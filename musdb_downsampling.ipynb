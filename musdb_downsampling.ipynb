{
 "cells": [
  {
   "cell_type": "code",
   "execution_count": 1,
   "metadata": {},
   "outputs": [],
   "source": [
    "import musdb\n",
    "import os\n",
    "import librosa\n",
    "import soundfile as sf\n",
    "import numpy as np\n",
    "import IPython.display as ipd"
   ]
  },
  {
   "cell_type": "code",
   "execution_count": 2,
   "metadata": {},
   "outputs": [],
   "source": [
    "original_root = \"data/musdb18\"\n",
    "original_sr = 44100\n",
    "resample_sr = 16000\n",
    "output_root = f\"data/musdb18_{resample_sr}\""
   ]
  },
  {
   "cell_type": "code",
   "execution_count": 3,
   "metadata": {},
   "outputs": [],
   "source": [
    "mus_train = musdb.DB(root=original_root, subsets=\"train\", split=\"train\")\n",
    "mus_valid = musdb.DB(root=original_root, subsets=\"train\", split=\"val\")\n",
    "mus_test = musdb.DB(root=original_root, subsets=\"test\")"
   ]
  },
  {
   "cell_type": "code",
   "execution_count": 4,
   "metadata": {},
   "outputs": [],
   "source": [
    "os.makedirs(output_root, exist_ok=True)"
   ]
  },
  {
   "cell_type": "code",
   "execution_count": 5,
   "metadata": {},
   "outputs": [],
   "source": [
    "stems = ['mixture','drums','bass','other','vocals']\n",
    "\n",
    "train_path = os.path.join(output_root, 'train')\n",
    "os.makedirs(train_path, exist_ok=True)\n",
    "\n",
    "for i in range(len(mus_train)):\n",
    "    music_path = os.path.join(train_path, mus_train[i].name)\n",
    "    os.makedirs(music_path, exist_ok=True)\n",
    "    data = mus_train[i].stems\n",
    "    \n",
    "    for i in range(5):\n",
    "        resample = librosa.resample(data[i].T, orig_sr=original_sr, target_sr=resample_sr)\n",
    "        sf.write(os.path.join(music_path, f\"{stems[i]}.wav\"), resample.T, resample_sr)"
   ]
  },
  {
   "cell_type": "code",
   "execution_count": 6,
   "metadata": {},
   "outputs": [],
   "source": [
    "valid_path = os.path.join(output_root, 'valid')\n",
    "os.makedirs(valid_path, exist_ok=True)\n",
    "\n",
    "for i in range(len(mus_valid)):\n",
    "    music_path = os.path.join(valid_path, mus_valid[i].name)\n",
    "    os.makedirs(music_path, exist_ok=True)\n",
    "    data = mus_valid[i].stems\n",
    "    \n",
    "    for i in range(5):\n",
    "        resample = librosa.resample(data[i].T, orig_sr=original_sr, target_sr=resample_sr)\n",
    "        sf.write(os.path.join(music_path, f\"{stems[i]}.wav\"), resample.T, resample_sr)"
   ]
  },
  {
   "cell_type": "code",
   "execution_count": 7,
   "metadata": {},
   "outputs": [],
   "source": [
    "test_path = os.path.join(output_root, 'test')\n",
    "os.makedirs(test_path, exist_ok=True)\n",
    "\n",
    "for i in range(len(mus_test)):\n",
    "    music_path = os.path.join(test_path, mus_test[i].name)\n",
    "    os.makedirs(music_path, exist_ok=True)\n",
    "    data = mus_test[i].stems\n",
    "    \n",
    "    for i in range(5):\n",
    "        resample = librosa.resample(data[i].T, orig_sr=original_sr, target_sr=resample_sr)\n",
    "        sf.write(os.path.join(music_path, f\"{stems[i]}.wav\"), resample.T, resample_sr)"
   ]
  }
 ],
 "metadata": {
  "kernelspec": {
   "display_name": "ai",
   "language": "python",
   "name": "python3"
  },
  "language_info": {
   "codemirror_mode": {
    "name": "ipython",
    "version": 3
   },
   "file_extension": ".py",
   "mimetype": "text/x-python",
   "name": "python",
   "nbconvert_exporter": "python",
   "pygments_lexer": "ipython3",
   "version": "3.10.0"
  }
 },
 "nbformat": 4,
 "nbformat_minor": 2
}
